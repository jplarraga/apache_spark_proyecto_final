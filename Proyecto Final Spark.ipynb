{
 "cells": [
  {
   "cell_type": "code",
   "execution_count": 3,
   "id": "299c4eb0",
   "metadata": {},
   "outputs": [
    {
     "name": "stderr",
     "output_type": "stream",
     "text": [
      "Setting default log level to \"WARN\".\n",
      "To adjust logging level use sc.setLogLevel(newLevel). For SparkR, use setLogLevel(newLevel).\n",
      "23/09/14 08:11:16 WARN NativeCodeLoader: Unable to load native-hadoop library for your platform... using builtin-java classes where applicable\n"
     ]
    }
   ],
   "source": [
    "import findspark\n",
    "findspark.init()\n",
    "import pandas as pd\n",
    "import pyspark\n",
    "from pyspark.sql import SparkSession\n",
    "\n",
    "spark = SparkSession.builder.appName(\"pysparkdf\").getOrCreate()"
   ]
  },
  {
   "cell_type": "code",
   "execution_count": 4,
   "id": "bf0403e5",
   "metadata": {},
   "outputs": [],
   "source": [
    "#1. Crear el DataFrame con datos de personas, que incluya nombre, edad y ciudad de residencia\n",
    "\n",
    "data = [(\"Alice\", 25, \"New York\"),\n",
    "        (\"Bob\", 30, \"Los Angeles\"),\n",
    "       (\"Charlie\", 22, \"Chicago\")]"
   ]
  },
  {
   "cell_type": "code",
   "execution_count": 45,
   "id": "00c3542b",
   "metadata": {},
   "outputs": [
    {
     "name": "stdout",
     "output_type": "stream",
     "text": [
      "+-------+----+--------------------+\n",
      "| Nombre|Edad|Ciudad de Residencia|\n",
      "+-------+----+--------------------+\n",
      "|  Alice|  25|            New York|\n",
      "|    Bob|  30|         Los Angeles|\n",
      "|Charlie|  22|             Chicago|\n",
      "+-------+----+--------------------+\n",
      "\n"
     ]
    }
   ],
   "source": [
    "df = spark.createDataFrame(data, [\"Nombre\", \"Edad\", \"Ciudad de Residencia\"])\n",
    "df.show()"
   ]
  },
  {
   "cell_type": "code",
   "execution_count": 47,
   "id": "5d910b70",
   "metadata": {},
   "outputs": [
    {
     "name": "stdout",
     "output_type": "stream",
     "text": [
      "+-------+\n",
      "| Nombre|\n",
      "+-------+\n",
      "|  Alice|\n",
      "|    Bob|\n",
      "|Charlie|\n",
      "+-------+\n",
      "\n",
      "+------+----+--------------------+\n",
      "|Nombre|Edad|Ciudad de Residencia|\n",
      "+------+----+--------------------+\n",
      "|   Bob|  30|         Los Angeles|\n",
      "+------+----+--------------------+\n",
      "\n"
     ]
    }
   ],
   "source": [
    "#2. Mostrar solo los nombres de las personas del DataFrame\n",
    "\n",
    "df.select(\"Nombre\").show()\n",
    "\n",
    "#3. Filtrar personas cuya edad sea mayor o igual a 25 \n",
    "\n",
    "df.filter(df[\"Edad\"] > 25).show()"
   ]
  },
  {
   "cell_type": "code",
   "execution_count": 7,
   "id": "84714a65",
   "metadata": {},
   "outputs": [
    {
     "name": "stdout",
     "output_type": "stream",
     "text": [
      "+-------+----+--------------------+----+\n",
      "| Nombre|Edad|Ciudad de Residencia|Pais|\n",
      "+-------+----+--------------------+----+\n",
      "|  Alice|  25|            New York| USA|\n",
      "|    Bob|  30|         Los Angeles| USA|\n",
      "|Charlie|  22|             Chicago| USA|\n",
      "+-------+----+--------------------+----+\n",
      "\n"
     ]
    }
   ],
   "source": [
    "#4. Agregar una nueva columna \"Pais\" con un valor constante para todas las filas\n",
    "\n",
    "from pyspark.sql.functions import when\n",
    "df1 = df.withColumn('Pais', when(df.Edad > 0, \"USA\"))\n",
    "\n",
    "df1.show()"
   ]
  },
  {
   "cell_type": "code",
   "execution_count": 8,
   "id": "087f7fda",
   "metadata": {},
   "outputs": [
    {
     "name": "stdout",
     "output_type": "stream",
     "text": [
      "+------------------+\n",
      "|     Promedio Edad|\n",
      "+------------------+\n",
      "|25.666666666666668|\n",
      "+------------------+\n",
      "\n"
     ]
    }
   ],
   "source": [
    "#5. Calcular el promedio de edad de todas las personas\n",
    "\n",
    "from pyspark.sql.functions import avg\n",
    "\n",
    "df.agg(avg(\"Edad\").alias(\"Promedio Edad\")).show()"
   ]
  },
  {
   "cell_type": "code",
   "execution_count": 9,
   "id": "44ab38b3",
   "metadata": {},
   "outputs": [
    {
     "name": "stdout",
     "output_type": "stream",
     "text": [
      "+-------+----+--------------------+\n",
      "| Nombre|Edad|Ciudad de Residencia|\n",
      "+-------+----+--------------------+\n",
      "|    Bob|  30|         Los Angeles|\n",
      "|  Alice|  25|            New York|\n",
      "|Charlie|  22|             Chicago|\n",
      "+-------+----+--------------------+\n",
      "\n"
     ]
    }
   ],
   "source": [
    "#6. Ordenar el DataFrame por edad en orden descendente\n",
    "\n",
    "df.sort(df.Edad.desc()).show()"
   ]
  },
  {
   "cell_type": "code",
   "execution_count": 10,
   "id": "4aed2c1c",
   "metadata": {},
   "outputs": [
    {
     "name": "stdout",
     "output_type": "stream",
     "text": [
      "+--------------------+---------------+\n",
      "|Ciudad de Residencia|Numero_personas|\n",
      "+--------------------+---------------+\n",
      "|            New York|              1|\n",
      "|         Los Angeles|              1|\n",
      "|             Chicago|              1|\n",
      "+--------------------+---------------+\n",
      "\n"
     ]
    }
   ],
   "source": [
    "#7. Agrupar por ciudad y calcular la cantidad de personas en cada ciudad\n",
    "\n",
    "from pyspark.sql.functions import *\n",
    "df.groupBy(\"Ciudad de Residencia\").agg(\n",
    "        count(\"Nombre\").alias(\"Numero_personas\")\n",
    "        ).show()"
   ]
  },
  {
   "cell_type": "code",
   "execution_count": 11,
   "id": "7bd1ea7b",
   "metadata": {},
   "outputs": [
    {
     "name": "stdout",
     "output_type": "stream",
     "text": [
      "+---------------+----+--------------------+\n",
      "|Nombre Completo|Edad|Ciudad de Residencia|\n",
      "+---------------+----+--------------------+\n",
      "|          Alice|  25|            New York|\n",
      "|            Bob|  30|         Los Angeles|\n",
      "|        Charlie|  22|             Chicago|\n",
      "+---------------+----+--------------------+\n",
      "\n"
     ]
    }
   ],
   "source": [
    "#8. Renombrar la columna \"Nombre\" a \"Nombre Completo\"\n",
    "\n",
    "df.withColumnRenamed(\"Nombre\", \"Nombre Completo\").show()"
   ]
  },
  {
   "cell_type": "code",
   "execution_count": 12,
   "id": "ee3d4cd4",
   "metadata": {},
   "outputs": [
    {
     "name": "stdout",
     "output_type": "stream",
     "text": [
      "+-------+--------------------+\n",
      "| Nombre|Ciudad de Residencia|\n",
      "+-------+--------------------+\n",
      "|  Alice|            New York|\n",
      "|    Bob|         Los Angeles|\n",
      "|Charlie|             Chicago|\n",
      "+-------+--------------------+\n",
      "\n"
     ]
    }
   ],
   "source": [
    "#9. Eliminar la columna \"Edad\" del DaraFrame\n",
    "\n",
    "df3 = df.drop(\"Edad\")\n",
    "df3.show()"
   ]
  },
  {
   "cell_type": "code",
   "execution_count": 13,
   "id": "ab702fca",
   "metadata": {},
   "outputs": [
    {
     "name": "stdout",
     "output_type": "stream",
     "text": [
      "+-------+----+--------------------+\n",
      "| Nombre|Edad|Ciudad de Residencia|\n",
      "+-------+----+--------------------+\n",
      "|  Alice|  25|            New York|\n",
      "|    Bob|  30|         Los Angeles|\n",
      "|Charlie|  22|             Chicago|\n",
      "+-------+----+--------------------+\n",
      "\n"
     ]
    }
   ],
   "source": [
    "#10. Realizar una consulta SQL en el DataFrame para seleccionar personas mayores de 20 anios\n",
    "\n",
    "from pyspark.sql.functions import col, lit\n",
    "\n",
    "df.filter( (col(\"Edad\") > 20)).show()"
   ]
  },
  {
   "cell_type": "code",
   "execution_count": 14,
   "id": "bedeed55",
   "metadata": {},
   "outputs": [
    {
     "name": "stdout",
     "output_type": "stream",
     "text": [
      "+-----------+\n",
      "|Suma_Edades|\n",
      "+-----------+\n",
      "|         77|\n",
      "+-----------+\n",
      "\n"
     ]
    }
   ],
   "source": [
    "#11. Calcular la suma total de todas las edades\n",
    "\n",
    "from pyspark.sql.functions import sum\n",
    "\n",
    "df.agg(sum(\"Edad\").alias(\"Suma_Edades\")).show()"
   ]
  },
  {
   "cell_type": "code",
   "execution_count": 15,
   "id": "793a09cf",
   "metadata": {},
   "outputs": [
    {
     "name": "stdout",
     "output_type": "stream",
     "text": [
      "+-----------+\n",
      "|Edad_Minima|\n",
      "+-----------+\n",
      "|         22|\n",
      "+-----------+\n",
      "\n",
      "+-----------+\n",
      "|Edad Maxima|\n",
      "+-----------+\n",
      "|         30|\n",
      "+-----------+\n",
      "\n"
     ]
    }
   ],
   "source": [
    "#12. Calcular la edad minima y maxima de todas las personas\n",
    "\n",
    "\n",
    "from pyspark.sql.functions import min, max\n",
    "\n",
    "df.agg(min(\"Edad\").alias(\"Edad_Minima\")).show()\n",
    "df.agg(max(\"Edad\").alias(\"Edad Maxima\")).show()\n"
   ]
  },
  {
   "cell_type": "code",
   "execution_count": 16,
   "id": "15807243",
   "metadata": {},
   "outputs": [
    {
     "name": "stdout",
     "output_type": "stream",
     "text": [
      "+-------+----+--------------------+\n",
      "| Nombre|Edad|Ciudad de Residencia|\n",
      "+-------+----+--------------------+\n",
      "|Charlie|  22|             Chicago|\n",
      "+-------+----+--------------------+\n",
      "\n"
     ]
    }
   ],
   "source": [
    "# 13. Filtrar personas cuya ciudad de residencia sea \"Chicago\" y edad sea menor de \"30\"\n",
    "\n",
    "from pyspark.sql.functions import col, lit\n",
    "\n",
    "df.filter((col(\"Ciudad de Residencia\") == lit(\"Chicago\"))\n",
    "         & (col(\"Edad\") < 30)).show()"
   ]
  },
  {
   "cell_type": "code",
   "execution_count": 17,
   "id": "49bf92d1",
   "metadata": {},
   "outputs": [
    {
     "name": "stdout",
     "output_type": "stream",
     "text": [
      "+-------+----+--------------------+-------------+\n",
      "| Nombre|Edad|Ciudad de Residencia|EdadDuplicada|\n",
      "+-------+----+--------------------+-------------+\n",
      "|  Alice|  25|            New York|           50|\n",
      "|    Bob|  30|         Los Angeles|           60|\n",
      "|Charlie|  22|             Chicago|           44|\n",
      "+-------+----+--------------------+-------------+\n",
      "\n"
     ]
    }
   ],
   "source": [
    "#14. Agregar una nueva columna \"EdadDuplicada\" que contenga el doble de la edad\n",
    "\n",
    "df4 = df.withColumn(\"EdadDuplicada\", (df.Edad * 2)).show()"
   ]
  },
  {
   "cell_type": "code",
   "execution_count": 18,
   "id": "7797abc0",
   "metadata": {},
   "outputs": [
    {
     "name": "stdout",
     "output_type": "stream",
     "text": [
      "+-------+----+--------------------+-------------+\n",
      "| Nombre|Edad|Ciudad de Residencia|Anios a Meses|\n",
      "+-------+----+--------------------+-------------+\n",
      "|  Alice|  25|            New York|          300|\n",
      "|    Bob|  30|         Los Angeles|          360|\n",
      "|Charlie|  22|             Chicago|          264|\n",
      "+-------+----+--------------------+-------------+\n",
      "\n"
     ]
    }
   ],
   "source": [
    "# 15. Convertir todas las edades en anios a meses\n",
    "\n",
    "df5 = df.withColumn(\"Anios a Meses\", (df.Edad * 12)).show()"
   ]
  },
  {
   "cell_type": "code",
   "execution_count": 19,
   "id": "fc5b5256",
   "metadata": {},
   "outputs": [
    {
     "name": "stdout",
     "output_type": "stream",
     "text": [
      "+---------------+\n",
      "|Conteo Personas|\n",
      "+---------------+\n",
      "|              3|\n",
      "+---------------+\n",
      "\n"
     ]
    }
   ],
   "source": [
    "# 16. Contar el numero total de personas en el DataFrame\n",
    "\n",
    "df.agg(count(\"Nombre\").alias(\"Conteo Personas\")).show()"
   ]
  },
  {
   "cell_type": "code",
   "execution_count": 20,
   "id": "05cf2bc5",
   "metadata": {},
   "outputs": [
    {
     "name": "stdout",
     "output_type": "stream",
     "text": [
      "+-------+----+--------------------+\n",
      "| Nombre|Edad|Ciudad de Residencia|\n",
      "+-------+----+--------------------+\n",
      "|    Bob|  30|         Los Angeles|\n",
      "|Charlie|  22|             Chicago|\n",
      "+-------+----+--------------------+\n",
      "\n"
     ]
    }
   ],
   "source": [
    "# 17. Filtrar personas cuya edad sea un numero par\n",
    "\n",
    "df.filter( (col(\"Edad\") % 2 == 0 )).show()"
   ]
  },
  {
   "cell_type": "code",
   "execution_count": 23,
   "id": "a2154ecd",
   "metadata": {},
   "outputs": [
    {
     "name": "stdout",
     "output_type": "stream",
     "text": [
      "+-------+----+--------------------+-------------+\n",
      "| Nombre|Edad|Ciudad de Residencia|rango de edad|\n",
      "+-------+----+--------------------+-------------+\n",
      "|  Alice|  25|            New York|   de 21 a 40|\n",
      "|    Bob|  30|         Los Angeles|   de 21 a 40|\n",
      "|Charlie|  22|             Chicago|   de 21 a 40|\n",
      "+-------+----+--------------------+-------------+\n",
      "\n"
     ]
    }
   ],
   "source": [
    "# 18. Calcular la cantidad de personas por rango de edades( 0-20, 21-40-, 41,60, 61+).\n",
    "from pyspark.sql.functions import expr\n",
    "\n",
    "cond = \"\"\"case when Edad <= 20 then 'de 0 a 20'\n",
    "                    else case when Edad >20 and Edad <=40 then 'de 21 a 40'\n",
    "                        else case when Edad >40 and Edad <=60 then 'de 41 a 60'\n",
    "                            else case when Edad >60 then '60+'\n",
    "                                else 'rango de edad invalido'\n",
    "                                    end\n",
    "                                end\n",
    "                            end\n",
    "                        end as rango_edad\"\"\"\n",
    "\n",
    "newdf = df.withColumn(\"rango de edad\", expr(cond))\n",
    "newdf.show()"
   ]
  },
  {
   "cell_type": "code",
   "execution_count": 24,
   "id": "a8e8036c",
   "metadata": {},
   "outputs": [
    {
     "name": "stdout",
     "output_type": "stream",
     "text": [
      "+-------+---------------------------------+\n",
      "| Nombre|Numero_de_personas_con_ese_nombre|\n",
      "+-------+---------------------------------+\n",
      "|  Alice|                                1|\n",
      "|    Bob|                                1|\n",
      "|Charlie|                                1|\n",
      "+-------+---------------------------------+\n",
      "\n"
     ]
    }
   ],
   "source": [
    "#19. Contar cuantas personas tienen el mismo nombre\n",
    "\n",
    "from pyspark.sql.functions import col\n",
    "\n",
    "df.groupBy(\"Nombre\").agg(\n",
    "    count(\"Nombre\").alias(\"Numero_de_personas_con_ese_nombre\")\n",
    ").show()"
   ]
  },
  {
   "cell_type": "code",
   "execution_count": 44,
   "id": "c29f350b",
   "metadata": {},
   "outputs": [
    {
     "name": "stdout",
     "output_type": "stream",
     "text": [
      "+-------------------+\n",
      "|InformacionPersonal|\n",
      "+-------------------+\n",
      "|      AliceNew York|\n",
      "|     BobLos Angeles|\n",
      "|     CharlieChicago|\n",
      "+-------------------+\n",
      "\n"
     ]
    }
   ],
   "source": [
    "#20. Concaternar las columnas \"Nombre\" y \"Ciudad\" en una nueva columna llamada \"InformacionPersonal\"\n",
    "\n",
    "from pyspark.sql.functions import concat, col\n",
    "\n",
    "df = df.withColumnRenamed(\"Ciudad de Residencia\",\"ciudad\")\n",
    "\n",
    "df5 = df.select(concat(df.Nombre, df.ciudad ).alias(\"InformacionPersonal\"))\n",
    "df5.show()"
   ]
  },
  {
   "cell_type": "code",
   "execution_count": null,
   "id": "8dd31789",
   "metadata": {},
   "outputs": [],
   "source": []
  }
 ],
 "metadata": {
  "kernelspec": {
   "display_name": "Python 3 (ipykernel)",
   "language": "python",
   "name": "python3"
  },
  "language_info": {
   "codemirror_mode": {
    "name": "ipython",
    "version": 3
   },
   "file_extension": ".py",
   "mimetype": "text/x-python",
   "name": "python",
   "nbconvert_exporter": "python",
   "pygments_lexer": "ipython3",
   "version": "3.9.13"
  }
 },
 "nbformat": 4,
 "nbformat_minor": 5
}
